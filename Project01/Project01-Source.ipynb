{
 "cells": [
  {
   "cell_type": "markdown",
   "id": "a6998415",
   "metadata": {},
   "source": [
    "# <center>The influence of education on developers</center>"
   ]
  },
  {
   "cell_type": "markdown",
   "id": "6212d70f",
   "metadata": {},
   "source": [
    "I did not have formal university educated to be a developer, however I am now a developer. So I'm very interested in how education affects a developer. Today, let's find out what developers around the world think about this with the Developer Survey Results 2017 dataset."
   ]
  },
  {
   "cell_type": "markdown",
   "id": "1a47011f",
   "metadata": {},
   "source": [
    "## Initialize the environment"
   ]
  },
  {
   "cell_type": "code",
   "execution_count": 1,
   "id": "9b5c5e85",
   "metadata": {},
   "outputs": [],
   "source": [
    "import os\n",
    "import pandas as pd\n",
    "import numpy as np\n",
    "import matplotlib.pyplot as plt\n",
    "from sklearn.model_selection import train_test_split\n",
    "from sklearn.linear_model import LogisticRegression\n",
    "from sklearn.metrics import r2_score, mean_squared_error"
   ]
  },
  {
   "cell_type": "code",
   "execution_count": 2,
   "id": "deb4746b",
   "metadata": {},
   "outputs": [],
   "source": [
    "# Some default config\n",
    "DATA_FOLDER_PATH =  \"../..\"\n",
    "SURVEY_PUBLIC = os.path.join(DATA_FOLDER_PATH, \"survey_results_public.csv\")\n",
    "SURVEY_SCHEMA = os.path.join(DATA_FOLDER_PATH, \"survey_results_schema.csv\")"
   ]
  },
  {
   "cell_type": "code",
   "execution_count": 3,
   "id": "3461f997",
   "metadata": {},
   "outputs": [],
   "source": [
    "# Load result dataframe\n",
    "results_df = pd.read_csv(SURVEY_PUBLIC)\n",
    "results_df = results_df[results_df['Professional'].apply(lambda x:'Professional developer' in x)]\n",
    "# Load schema dataframe\n",
    "schema_df = pd.read_csv(SURVEY_SCHEMA)"
   ]
  },
  {
   "cell_type": "code",
   "execution_count": 4,
   "id": "62c001a9",
   "metadata": {},
   "outputs": [],
   "source": [
    "def get_description(col_name, data = schema_df):\n",
    "    \"\"\"\n",
    "    args:\n",
    "    col_name: str - name of columns which want to knows it description\n",
    "    data: pandas dataframe\n",
    "    return:\n",
    "    str - the description of columns in data\n",
    "    \"\"\"\n",
    "    return data['Question'][data['Column']==col_name].values[0]"
   ]
  },
  {
   "cell_type": "markdown",
   "id": "d7aba15c",
   "metadata": {},
   "source": [
    "## 1 - Assessment of the importance of formal education"
   ]
  },
  {
   "cell_type": "raw",
   "id": "dcbae359",
   "metadata": {},
   "source": [
    "In this section, I will only be interested in people who are profresonal developers to find out what their thoughts are on the importance of formal education. It is clear that these assessments will be more realistic as it is accumulated from their study and work experience. After that, I will also try to find out what the difference between the assessments of those who have been formally educated and those who have not been formally educated will be different."
   ]
  },
  {
   "cell_type": "code",
   "execution_count": 5,
   "id": "0856cf34",
   "metadata": {},
   "outputs": [
    {
     "data": {
      "text/plain": [
       "'Overall, how important has your formal schooling and education been to your career success?'"
      ]
     },
     "execution_count": 5,
     "metadata": {},
     "output_type": "execute_result"
    }
   ],
   "source": [
    "get_description(\"EducationImportant\")"
   ]
  },
  {
   "cell_type": "code",
   "execution_count": 6,
   "id": "5b7ada50",
   "metadata": {},
   "outputs": [
    {
     "data": {
      "text/plain": [
       "\"Which of the following best describes your main field of study (aka 'major') in college or university/for your undergraduate studies?\""
      ]
     },
     "execution_count": 6,
     "metadata": {},
     "output_type": "execute_result"
    }
   ],
   "source": [
    "get_description('MajorUndergrad')"
   ]
  },
  {
   "cell_type": "raw",
   "id": "4b661b5e",
   "metadata": {},
   "source": [
    "In the current dataset, indicators of the importance of formal education include:\n",
    "'Very important', 'Important', 'Somewhat important', 'Not very important','Not at all important'\n",
    "The above sort order is the most convenient for us to consider on the graph later."
   ]
  },
  {
   "cell_type": "code",
   "execution_count": 7,
   "id": "07a0d874",
   "metadata": {},
   "outputs": [],
   "source": [
    "keys = ['Very important', 'Important', 'Somewhat important', 'Not very important','Not at all important']"
   ]
  },
  {
   "cell_type": "raw",
   "id": "f5424011",
   "metadata": {},
   "source": [
    "It is quite simple to determine the proportions of ratings based on the data set."
   ]
  },
  {
   "cell_type": "code",
   "execution_count": 8,
   "id": "ad2ca88a",
   "metadata": {},
   "outputs": [
    {
     "data": {
      "text/plain": [
       "array([0.1591094 , 0.25095269, 0.26927853, 0.20530936, 0.11535003])"
      ]
     },
     "execution_count": 8,
     "metadata": {},
     "output_type": "execute_result"
    }
   ],
   "source": [
    "value_counted = results_df[\"EducationImportant\"].value_counts()[keys].values\n",
    "edu_important_percents = value_counted/sum(value_counted)\n",
    "edu_important_percents"
   ]
  },
  {
   "cell_type": "raw",
   "id": "56d53f62",
   "metadata": {},
   "source": [
    "With the above results, it can be seen that the majority of people consider formal education to be important to their work.\n",
    "The next step will be to learn about this ratio across different groupss.\n",
    "The first is a group of formally educated professional developers, here I would say those who had studied at a college or university said they had concentrated their studies on computer science or software engineering and majored in a closely-related discipline such as computer programming, computer engineering, or information technology."
   ]
  },
  {
   "cell_type": "code",
   "execution_count": 9,
   "id": "e674b5f8",
   "metadata": {},
   "outputs": [],
   "source": [
    "nearly_majors = ['Computer science or software engineering',\n",
    "                'Computer engineering or electrical/electronics engineering',\n",
    "                'Computer programming or Web development',\n",
    "                'Information technology, networking, or system administration',\n",
    "                'Management information systems']"
   ]
  },
  {
   "cell_type": "code",
   "execution_count": 10,
   "id": "dfbcca36",
   "metadata": {},
   "outputs": [
    {
     "data": {
      "text/plain": [
       "array([0.18220263, 0.2871523 , 0.2794687 , 0.18047531, 0.07070105])"
      ]
     },
     "execution_count": 10,
     "metadata": {},
     "output_type": "execute_result"
    }
   ],
   "source": [
    "nearly_df = results_df[results_df['MajorUndergrad'].apply(lambda x: x in nearly_majors)]\n",
    "value_counted = nearly_df[\"EducationImportant\"].value_counts()[keys].values\n",
    "nearly_percents = value_counted/sum(value_counted)\n",
    "nearly_percents"
   ]
  },
  {
   "cell_type": "raw",
   "id": "03803ea4",
   "metadata": {},
   "source": [
    "The results show that for those who have received professional training, nearly 75% agree that formal training is important to their job, but over 25% think it is not very important or even unimportant - what a surprise.\n",
    "How about The remaining who had majored in other fields such as business, the social sciences, natural sciences, non-computer engineering, or the arts?"
   ]
  },
  {
   "cell_type": "code",
   "execution_count": 11,
   "id": "0084d789",
   "metadata": {},
   "outputs": [
    {
     "data": {
      "text/plain": [
       "array([0.12145215, 0.18459846, 0.27282728, 0.26226623, 0.15885589])"
      ]
     },
     "execution_count": 11,
     "metadata": {},
     "output_type": "execute_result"
    }
   ],
   "source": [
    "other_df = results_df[results_df['MajorUndergrad'].apply(lambda x: x not in nearly_majors)]\n",
    "value_counted = other_df.dropna(subset = [\"MajorUndergrad\"])[\"EducationImportant\"].value_counts()[keys].values\n",
    "other_percents = value_counted/sum(value_counted)\n",
    "other_percents"
   ]
  },
  {
   "cell_type": "raw",
   "id": "e3b0857f",
   "metadata": {},
   "source": [
    "The percentage of people who think formal education is not important is 42.11%, but not too surprising for me.\n",
    "I will writing more after describing these indicators on the chart below."
   ]
  },
  {
   "cell_type": "code",
   "execution_count": 12,
   "id": "3f6790e3",
   "metadata": {},
   "outputs": [
    {
     "data": {
      "image/png": "[encoded data removed]",
      "text/plain": [
       "<Figure size 720x576 with 1 Axes>"
      ]
     },
     "metadata": {
      "needs_background": "light"
     },
     "output_type": "display_data"
    }
   ],
   "source": [
    "fig, ax = plt.subplots(figsize =(10, 8))\n",
    "\n",
    "# Horizontal Bar Plot\n",
    "width = 1/4\n",
    "ind = np.arange(len(keys))\n",
    "ax.barh(ind + 0*width, edu_important_percents, width, color='r', label='All dataset')\n",
    "ax.barh(ind + 1*width, nearly_percents, width, color='g', label='Closely related majors')\n",
    "ax.barh(ind + 2*width, other_percents, width, color='b', label='Other majors')\n",
    "\n",
    "ax.set(yticks=ind + width, yticklabels=keys, ylim=[2*width-2, len(keys)])\n",
    "\n",
    "# Remove axes splines\n",
    "for s in ['top', 'bottom', 'left', 'right']:\n",
    "    ax.spines[s].set_visible(False)\n",
    "\n",
    "# Add x, y gridlines\n",
    "ax.grid(visible = True, color ='black',\n",
    "        linestyle ='-.', linewidth = 0.5,\n",
    "        alpha = 0.2)\n",
    "\n",
    "# Show top values\n",
    "ax.invert_yaxis()\n",
    "\n",
    "# Add annotation to bars\n",
    "for i in ax.patches:\n",
    "    plt.text(i.get_width(), i.get_y()+0.2,\n",
    "             str(round((i.get_width())*100, 2)),\n",
    "             fontsize = 10, fontweight ='bold',\n",
    "             color ='grey')\n",
    "\n",
    "# Add Plot Title\n",
    "ax.set_title('Importance of Formal Education',\n",
    "             loc ='center', )\n",
    "ax.legend()\n",
    "# Show Plot\n",
    "plt.show()  "
   ]
  },
  {
   "cell_type": "code",
   "execution_count": 13,
   "id": "159f9bf7",
   "metadata": {},
   "outputs": [
    {
     "data": {
      "text/plain": [
       "57.89"
      ]
     },
     "execution_count": 13,
     "metadata": {},
     "output_type": "execute_result"
    }
   ],
   "source": [
    "12.15+18.46+27.28"
   ]
  },
  {
   "cell_type": "raw",
   "id": "ee6aca3b",
   "metadata": {},
   "source": [
    "Clearly, formal education is identified by the majority of professional developers as important to their work, especially for those who have received formal education. This is quite understandable, while those with no formal training need to learn to become a professional developer from the most basic knowledge, you can already start working, gaining real experience. economy and learn new knowledge. Because of that, 57.89% of people think like me that formal training is important.\n",
    "\n",
    "However, over 32% think that formal education is not so important, especially for those without formal training, this rate rises to over 42%. This shows us that there are other ways to become a professional developer, nowadays there are many places where you can learn to become a professional developer such as Online course, Open source contributions and self-taught.\n",
    "\n",
    "In the next section, we will learn how people with no formal education become professional developers."
   ]
  },
  {
   "cell_type": "markdown",
   "id": "019a5489",
   "metadata": {},
   "source": [
    "## 2 - How people without formal education become professional developers?"
   ]
  },
  {
   "cell_type": "raw",
   "id": "d5ce0f55",
   "metadata": {},
   "source": [
    "In this section, I will be interested in Other Types of Education exclusively for those without formal education."
   ]
  },
  {
   "cell_type": "code",
   "execution_count": 14,
   "id": "1a509a45",
   "metadata": {},
   "outputs": [
    {
     "data": {
      "text/plain": [
       "'Outside of your formal schooling and education, which of the following have you done?'"
      ]
     },
     "execution_count": 14,
     "metadata": {},
     "output_type": "execute_result"
    }
   ],
   "source": [
    "get_description(\"EducationTypes\")"
   ]
  },
  {
   "cell_type": "code",
   "execution_count": 15,
   "id": "ce228e76",
   "metadata": {},
   "outputs": [],
   "source": [
    "answers = other_df.dropna(subset = [\"MajorUndergrad\",'EducationTypes'])\n",
    "edu_types = set()\n",
    "for x in answers[\"EducationTypes\"].values:\n",
    "    elem = x.split(\";\")\n",
    "    for e in elem:\n",
    "        edu_types.add(e.strip())"
   ]
  },
  {
   "cell_type": "code",
   "execution_count": 16,
   "id": "7099f24c",
   "metadata": {},
   "outputs": [
    {
     "name": "stderr",
     "output_type": "stream",
     "text": [
      "/tmp/ipykernel_1699912/4218531787.py:2: SettingWithCopyWarning: \n",
      "A value is trying to be set on a copy of a slice from a DataFrame.\n",
      "Try using .loc[row_indexer,col_indexer] = value instead\n",
      "\n",
      "See the caveats in the documentation: https://pandas.pydata.org/pandas-docs/stable/user_guide/indexing.html#returning-a-view-versus-a-copy\n",
      "  other_df[t] = other_df.dropna(subset = ['EducationTypes'])['EducationTypes'].apply(lambda x: 1 if t in x else 0)\n"
     ]
    }
   ],
   "source": [
    "for t in edu_types:\n",
    "    other_df[t] = other_df.dropna(subset = ['EducationTypes'])['EducationTypes'].apply(lambda x: 1 if t in x else 0)"
   ]
  },
  {
   "cell_type": "code",
   "execution_count": 17,
   "id": "b2abfc99",
   "metadata": {},
   "outputs": [],
   "source": [
    "edu_type_counts = other_df[edu_types].dropna().sum()\n",
    "percents = edu_type_counts/edu_type_counts.sum()\n",
    "percents = percents.sort_values(ascending = False)"
   ]
  },
  {
   "cell_type": "code",
   "execution_count": 18,
   "id": "4831fc8e",
   "metadata": {},
   "outputs": [
    {
     "name": "stderr",
     "output_type": "stream",
     "text": [
      "No artists with labels found to put in legend.  Note that artists whose label start with an underscore are ignored when legend() is called with no argument.\n"
     ]
    },
    {
     "data": {
      "image/png": "[encoded data removed]",
      "text/plain": [
       "<Figure size 720x576 with 1 Axes>"
      ]
     },
     "metadata": {
      "needs_background": "light"
     },
     "output_type": "display_data"
    }
   ],
   "source": [
    "\n",
    "fig, ax = plt.subplots(figsize =(10, 8))\n",
    "\n",
    "# Horizontal Bar Plot\n",
    "ax.barh(percents.keys(), percents.values, width, color='b')\n",
    "\n",
    "# Remove axes splines\n",
    "for s in ['top', 'bottom', 'left', 'right']:\n",
    "    ax.spines[s].set_visible(False)\n",
    "\n",
    "# Add x, y gridlines\n",
    "ax.grid(visible = True, color ='black',\n",
    "        linestyle ='-.', linewidth = 0.5,\n",
    "        alpha = 0.2)\n",
    "\n",
    "# Show top values\n",
    "ax.invert_yaxis()\n",
    "\n",
    "# Add annotation to bars\n",
    "for i in ax.patches:\n",
    "    plt.text(i.get_width(), i.get_y()+0.2,\n",
    "             str(round((i.get_width())*100, 2)),\n",
    "             fontsize = 10, fontweight ='bold',\n",
    "             color ='grey')\n",
    "\n",
    "# Add Plot Title\n",
    "ax.set_title('Importance of Formal Education',\n",
    "             loc ='center', )\n",
    "ax.legend()\n",
    "# Show Plot\n",
    "plt.show()  "
   ]
  },
  {
   "cell_type": "raw",
   "id": "f88aa534",
   "metadata": {},
   "source": [
    "According to the chart, 30.12% say they are at least partially self-taught, 14.86% say they’ve taken an online course, and 28.07% say they’ve received on-the-job training.\n",
    "\n",
    "It is quite surprising that this chart is very similar to my experience from when I started learning about programming. I can't make statistics about the rate, but in general, the time I spend on self-study is also arranged in the same order as above."
   ]
  },
  {
   "cell_type": "markdown",
   "id": "4092b63f",
   "metadata": {},
   "source": [
    "### 3 - Can we build a model to predict salary satisfaction of professional developers based on learning history?"
   ]
  },
  {
   "cell_type": "raw",
   "id": "544cd375",
   "metadata": {},
   "source": [
    "This is probably not a very realistic model, since assessing one's salary will always be an extremely difficult thing and the model to evaluate that will be extremely complex. However, with the analysis and evaluation in the above sections, I still hope with the miracle of machine learning, we can predict whether the salary of a professional programmer without formal education will meet their expectations from learning experience.\n",
    "\n",
    "I will choose some of the following parameters to build the model we want:\n",
    "\n",
    "1 - FormalEducation\n",
    "2 - YearsProgram\n",
    "3 - EducationTypes\n",
    "4 - CompanySize\n",
    "5 - CompanyType\n",
    "6 - HaveWorkedLanguage\n",
    "7 - HaveWorkedFramework\n",
    "8 - HaveWorkedDatabase\n",
    "9 - HaveWorkedPlatform"
   ]
  },
  {
   "cell_type": "code",
   "execution_count": 19,
   "id": "a7946e51",
   "metadata": {},
   "outputs": [],
   "source": [
    "def to_categorical(data, col_name):\n",
    "    \n",
    "    \"\"\"\n",
    "    arg:\n",
    "        data: pandas dataframe\n",
    "        col_name: str - name of columns\n",
    "    return:\n",
    "        small pandas dataframe with the answers is splited and convert to categorical type\n",
    "    \"\"\"\n",
    "    answers = other_df.dropna(subset = [col_name])\n",
    "    types = set()\n",
    "    for x in answers[col_name].values:\n",
    "        elem = x.split(\";\")\n",
    "        for e in elem:\n",
    "            types.add(e.strip())\n",
    "    for t in types:\n",
    "        data[t] = other_df.dropna(subset = [col_name])[col_name].apply(lambda x: 1 if t in x else 0)\n",
    "    return data[types].fillna(0)"
   ]
  },
  {
   "cell_type": "code",
   "execution_count": 20,
   "id": "356bd500",
   "metadata": {},
   "outputs": [
    {
     "name": "stderr",
     "output_type": "stream",
     "text": [
      "/home/azureuser/anaconda3/envs/vietvh9/lib/python3.8/site-packages/pandas/core/generic.py:5516: SettingWithCopyWarning: \n",
      "A value is trying to be set on a copy of a slice from a DataFrame.\n",
      "Try using .loc[row_indexer,col_indexer] = value instead\n",
      "\n",
      "See the caveats in the documentation: https://pandas.pydata.org/pandas-docs/stable/user_guide/indexing.html#returning-a-view-versus-a-copy\n",
      "  self[name] = value\n"
     ]
    }
   ],
   "source": [
    "features = ['FormalEducation',\n",
    "            'YearsProgram',\n",
    "            'EducationTypes',\n",
    "           'CompanySize',\n",
    "           'CompanyType',\n",
    "           'DeveloperType',\n",
    "           'HaveWorkedLanguage',\n",
    "           'HaveWorkedFramework',\n",
    "           'HaveWorkedDatabase',\n",
    "           'HaveWorkedPlatform']\n",
    "\n",
    "dataset = other_df.dropna(subset = [\"Overpaid\"])\n",
    "dataset.Overpaid = dataset.Overpaid.apply(lambda x:0 if x in ['Somewhat underpaid','Greatly underpaid'] else 1)"
   ]
  },
  {
   "cell_type": "code",
   "execution_count": 21,
   "id": "e49bb670",
   "metadata": {},
   "outputs": [
    {
     "name": "stderr",
     "output_type": "stream",
     "text": [
      "/tmp/ipykernel_1699912/544041420.py:17: SettingWithCopyWarning: \n",
      "A value is trying to be set on a copy of a slice from a DataFrame.\n",
      "Try using .loc[row_indexer,col_indexer] = value instead\n",
      "\n",
      "See the caveats in the documentation: https://pandas.pydata.org/pandas-docs/stable/user_guide/indexing.html#returning-a-view-versus-a-copy\n",
      "  data[t] = other_df.dropna(subset = [col_name])[col_name].apply(lambda x: 1 if t in x else 0)\n"
     ]
    }
   ],
   "source": [
    "X = pd.get_dummies(dataset[['FormalEducation',\n",
    "                            'YearsProgram',\n",
    "                           'CompanySize',\n",
    "                           'CompanyType']],\n",
    "                   dummy_na=True,\n",
    "                   drop_first=True)\n",
    "X = pd.concat([X,to_categorical(dataset,'DeveloperType')], axis = 1)\n",
    "X = pd.concat([X,to_categorical(dataset,'EducationTypes')], axis = 1)\n",
    "X = pd.concat([X,to_categorical(dataset,'HaveWorkedLanguage')], axis = 1)\n",
    "X = pd.concat([X,to_categorical(dataset,'HaveWorkedFramework')], axis = 1)\n",
    "X = pd.concat([X,to_categorical(dataset,'HaveWorkedDatabase')], axis = 1)\n",
    "X = pd.concat([X,to_categorical(dataset,'HaveWorkedPlatform')], axis = 1)\n",
    "y = dataset[\"Overpaid\"]"
   ]
  },
  {
   "cell_type": "code",
   "execution_count": 22,
   "id": "b5769cfc",
   "metadata": {},
   "outputs": [
    {
     "name": "stdout",
     "output_type": "stream",
     "text": [
      "0.6117334905660378\n",
      "0.583554376657825\n"
     ]
    }
   ],
   "source": [
    "X_train, X_test, y_train, y_test = train_test_split(X,y,test_size = 0.1, random_state = 42,stratify = y)\n",
    "regr = LogisticRegression(max_iter = 1000)\n",
    "regr.fit(X_train, y_train)\n",
    "print(regr.score(X_train, y_train))\n",
    "print(regr.score(X_test, y_test))"
   ]
  },
  {
   "cell_type": "raw",
   "id": "18803f06",
   "metadata": {},
   "source": [
    "Unfortunately, the model was not really successful. The prediction accuracy rate is only 58%, however, the current results are mostly predicted by the model as not meeting the developer's expectations even though the percentage in the data set is 42.45% satisfied with the their salary."
   ]
  },
  {
   "cell_type": "markdown",
   "id": "6e4bfef4",
   "metadata": {},
   "source": [
    "## 4 - Summary"
   ]
  },
  {
   "cell_type": "raw",
   "id": "9b5aa513",
   "metadata": {},
   "source": [
    "Through the above analysis, we can recognize some points as follows.\n",
    "Firstly, getting a formal education is relatively important for a professional developer.\n",
    "Next, there are many ways to become a professional developer if you have no formal education, of which the most appreciated ones are self-study, online course and on-job training if given the opportunity.\n",
    "Finally, simple predictive models like logictics regression do not give a reliable prediction of whether you will be able to achieve your desired salary based on your learning experience."
   ]
  },
  {
   "cell_type": "raw",
   "id": "18f47d29",
   "metadata": {},
   "source": [
    "Thank you very much for viewing my post."
   ]
  },
  {
   "cell_type": "code",
   "execution_count": null,
   "id": "7e58e00d",
   "metadata": {},
   "outputs": [],
   "source": []
  }
 ],
 "metadata": {
  "kernelspec": {
   "display_name": "Python 3 (ipykernel)",
   "language": "python",
   "name": "python3"
  },
  "language_info": {
   "codemirror_mode": {
    "name": "ipython",
    "version": 3
   },
   "file_extension": ".py",
   "mimetype": "text/x-python",
   "name": "python",
   "nbconvert_exporter": "python",
   "pygments_lexer": "ipython3",
   "version": "3.8.0"
  }
 },
 "nbformat": 4,
 "nbformat_minor": 5
}
