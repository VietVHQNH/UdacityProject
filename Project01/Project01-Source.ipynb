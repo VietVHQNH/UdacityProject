{
 "cells": [
  {
   "cell_type": "markdown",
   "id": "a6998415",
   "metadata": {},
   "source": [
    "# <center>The influence of education on developers</center>"
   ]
  },
  {
   "cell_type": "markdown",
   "id": "6212d70f",
   "metadata": {},
   "source": [
    "I did not have formal university training to be a developer, however I am now a developer. So I'm very interested in how education affects a developer. In this article, let's find out what developers around the world think about this with the Developer Survey Results 2017 dataset."
   ]
  },
  {
   "cell_type": "code",
   "execution_count": null,
   "id": "a7f55efd",
   "metadata": {},
   "outputs": [],
   "source": []
  }
 ],
 "metadata": {
  "kernelspec": {
   "display_name": "Python 3 (ipykernel)",
   "language": "python",
   "name": "python3"
  },
  "language_info": {
   "codemirror_mode": {
    "name": "ipython",
    "version": 3
   },
   "file_extension": ".py",
   "mimetype": "text/x-python",
   "name": "python",
   "nbconvert_exporter": "python",
   "pygments_lexer": "ipython3",
   "version": "3.8.0"
  }
 },
 "nbformat": 4,
 "nbformat_minor": 5
}
